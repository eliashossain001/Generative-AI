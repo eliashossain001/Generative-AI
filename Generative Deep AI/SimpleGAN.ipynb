{
  "nbformat": 4,
  "nbformat_minor": 0,
  "metadata": {
    "colab": {
      "provenance": []
    },
    "kernelspec": {
      "name": "python3",
      "display_name": "Python 3"
    },
    "language_info": {
      "name": "python"
    }
  },
  "cells": [
    {
      "cell_type": "markdown",
      "source": [
        "Import libraries"
      ],
      "metadata": {
        "id": "Ro4B8DXXqFdi"
      }
    },
    {
      "cell_type": "code",
      "source": [
        "import torch\n",
        "import torch.nn as nn\n",
        "import torchvision\n",
        "import torch.optim as optim\n",
        "import torchvision.datasets as datasets\n",
        "from torch.utils.data import DataLoader\n",
        "import torchvision.transforms as transforms\n",
        "from torch.utils.tensorboard import SummaryWriter "
      ],
      "metadata": {
        "id": "tBCgbooeqHVC"
      },
      "execution_count": 3,
      "outputs": []
    },
    {
      "cell_type": "markdown",
      "source": [
        "Build Discriminator"
      ],
      "metadata": {
        "id": "KbO9tkuzqsrA"
      }
    },
    {
      "cell_type": "code",
      "source": [
        "class Discriminator(nn.Module):\n",
        "    def __init__(self, in_features):\n",
        "        super().__init__()\n",
        "        self.disc = nn.Sequential(\n",
        "            nn.Linear(in_features, 128),\n",
        "            nn.LeakyReLU(0.01),\n",
        "            nn.Linear(128, 1),\n",
        "            nn.Sigmoid(),\n",
        "        )\n",
        "\n",
        "    def forward(self, x):\n",
        "      \n",
        "      return self.disc(x)\n"
      ],
      "metadata": {
        "id": "RITVZSZ8qoP_"
      },
      "execution_count": 22,
      "outputs": []
    },
    {
      "cell_type": "markdown",
      "source": [
        "Build generator"
      ],
      "metadata": {
        "id": "fhnldhz7tmAX"
      }
    },
    {
      "cell_type": "code",
      "source": [
        "class Generator(nn.Module):\n",
        "    def __init__(self, z_dim, img_dim):\n",
        "        super().__init__()\n",
        "        self.gen = nn.Sequential(\n",
        "            nn.Linear(z_dim, 256),\n",
        "            nn.LeakyReLU(0.01),\n",
        "            nn.Linear(256, img_dim),\n",
        "            nn.Tanh(),  # normalize inputs to [-1, 1] so make outputs [-1, 1]\n",
        "        )\n",
        "\n",
        "    def forward(self, x):\n",
        "        return self.gen(x)"
      ],
      "metadata": {
        "id": "ucMUeGXaqrqh"
      },
      "execution_count": 23,
      "outputs": []
    },
    {
      "cell_type": "code",
      "source": [
        "# Hyperparameters etc.\n",
        "device = \"cuda\" if torch.cuda.is_available() else \"cpu\"\n",
        "lr = 3e-4\n",
        "z_dim = 64\n",
        "image_dim = 28 * 28 * 1  # 784\n",
        "batch_size = 32\n",
        "num_epochs = 50"
      ],
      "metadata": {
        "id": "TDcP9t83qr3V"
      },
      "execution_count": 24,
      "outputs": []
    },
    {
      "cell_type": "code",
      "source": [
        "disc = Discriminator(image_dim).to(device)\n",
        "gen = Generator(z_dim, image_dim).to(device)\n",
        "fixed_noise = torch.randn((batch_size, z_dim)).to(device)\n",
        "transforms = torchvision.transforms.Compose(\n",
        "    [\n",
        "         torchvision.transforms.ToTensor(),\n",
        "         torchvision.transforms.Normalize((0.5,), (0.5,)),\n",
        "    ]\n",
        ")"
      ],
      "metadata": {
        "id": "T9YW5TpTqr5v"
      },
      "execution_count": 29,
      "outputs": []
    },
    {
      "cell_type": "markdown",
      "source": [
        "Loading MNIST data"
      ],
      "metadata": {
        "id": "WPPkIB0WzS0L"
      }
    },
    {
      "cell_type": "code",
      "source": [
        "dataset= datasets.MNIST(root='datasets/', transform= transforms, download= True)\n",
        "loader= DataLoader(dataset, batch_size= batch_size, shuffle= True)\n",
        "opt_disc= optim.Adam(disc.parameters(), lr=lr) \n",
        "opt_gen= optim.Adam(gen.parameters(), lr=lr)\n",
        "criterion= nn.BCELoss()\n",
        "writer_fake= SummaryWriter(f'logs/fake')\n",
        "writer_real= SummaryWriter(f'logs/real')\n",
        "step=0"
      ],
      "metadata": {
        "id": "z5Kgx-nZyWQc"
      },
      "execution_count": 30,
      "outputs": []
    },
    {
      "cell_type": "code",
      "source": [
        "for epoch in range(num_epochs):\n",
        "  for batch_idx, (real, _) in enumerate(loader):\n",
        "    real = real.view(-1, 784).to(device)\n",
        "    batch_size = real.shape[0]\n",
        "    noise = torch.randn(batch_size, z_dim).to(device)\n",
        "    fake = gen(noise)\n",
        "    disc_real = disc(real).view(-1)\n",
        "    lossD_real = criterion(disc_real, torch.ones_like(disc_real))\n",
        "    disc_fake = disc(fake).view(-1)\n",
        "    lossD_fake = criterion(disc_fake, torch.zeros_like(disc_fake))\n",
        "    lossD = (lossD_real + lossD_fake) / 2\n",
        "    disc.zero_grad()\n",
        "    lossD.backward(retain_graph=True)\n",
        "    opt_disc.step()\n",
        "    output = disc(fake).view(-1)\n",
        "    lossG = criterion(output, torch.ones_like(output))\n",
        "    gen.zero_grad()\n",
        "    lossG.backward()\n",
        "    opt_gen.step()\n",
        "    \n",
        "    if batch_idx == 0:\n",
        "      print(\n",
        "                f\"Epoch [{epoch}/{num_epochs}] Batch {batch_idx}/{len(loader)} \\\n",
        "                      Loss D: {lossD:.4f}, loss G: {lossG:.4f}\"\n",
        "            )\n",
        "      with torch.no_grad():\n",
        "        fake = gen(fixed_noise).reshape(-1, 1, 28, 28)\n",
        "        data = real.reshape(-1, 1, 28, 28)\n",
        "        img_grid_fake = torchvision.utils.make_grid(fake, normalize=True)\n",
        "        img_grid_real = torchvision.utils.make_grid(data, normalize=True)\n",
        "\n",
        "        writer_fake.add_image(\n",
        "                    \"Mnist Fake Images\", img_grid_fake, global_step=step\n",
        "                )\n",
        "        writer_real.add_image(\n",
        "                    \"Mnist Real Images\", img_grid_real, global_step=step\n",
        "                )\n",
        "        step += 1\n",
        "\n"
      ],
      "metadata": {
        "colab": {
          "base_uri": "https://localhost:8080/"
        },
        "id": "GZO9_9r9yWT5",
        "outputId": "ccdd54c7-b92d-4655-d4d1-8f8dabac6847"
      },
      "execution_count": 31,
      "outputs": [
        {
          "output_type": "stream",
          "name": "stdout",
          "text": [
            "Epoch [0/50] Batch 0/1875                       Loss D: 0.6628, loss G: 0.7239\n",
            "Epoch [1/50] Batch 0/1875                       Loss D: 0.7037, loss G: 0.6988\n",
            "Epoch [2/50] Batch 0/1875                       Loss D: 0.4396, loss G: 0.9919\n",
            "Epoch [3/50] Batch 0/1875                       Loss D: 0.2622, loss G: 1.4652\n",
            "Epoch [4/50] Batch 0/1875                       Loss D: 0.9185, loss G: 0.8080\n",
            "Epoch [5/50] Batch 0/1875                       Loss D: 0.3769, loss G: 1.6426\n",
            "Epoch [6/50] Batch 0/1875                       Loss D: 0.7855, loss G: 0.7495\n",
            "Epoch [7/50] Batch 0/1875                       Loss D: 0.5725, loss G: 1.2666\n",
            "Epoch [8/50] Batch 0/1875                       Loss D: 0.4778, loss G: 1.3271\n",
            "Epoch [9/50] Batch 0/1875                       Loss D: 0.7277, loss G: 0.8378\n",
            "Epoch [10/50] Batch 0/1875                       Loss D: 0.7234, loss G: 0.8935\n",
            "Epoch [11/50] Batch 0/1875                       Loss D: 0.6834, loss G: 1.1836\n",
            "Epoch [12/50] Batch 0/1875                       Loss D: 0.8370, loss G: 0.6580\n",
            "Epoch [13/50] Batch 0/1875                       Loss D: 0.7702, loss G: 1.1199\n",
            "Epoch [14/50] Batch 0/1875                       Loss D: 0.6585, loss G: 1.1751\n",
            "Epoch [15/50] Batch 0/1875                       Loss D: 0.3694, loss G: 2.2340\n",
            "Epoch [16/50] Batch 0/1875                       Loss D: 0.6427, loss G: 1.1242\n",
            "Epoch [17/50] Batch 0/1875                       Loss D: 0.4744, loss G: 2.0567\n",
            "Epoch [18/50] Batch 0/1875                       Loss D: 0.6832, loss G: 0.8266\n",
            "Epoch [19/50] Batch 0/1875                       Loss D: 0.4463, loss G: 1.6534\n",
            "Epoch [20/50] Batch 0/1875                       Loss D: 0.5559, loss G: 1.3347\n",
            "Epoch [21/50] Batch 0/1875                       Loss D: 0.4666, loss G: 1.5490\n",
            "Epoch [22/50] Batch 0/1875                       Loss D: 0.6501, loss G: 1.1962\n",
            "Epoch [23/50] Batch 0/1875                       Loss D: 0.6770, loss G: 1.3616\n",
            "Epoch [24/50] Batch 0/1875                       Loss D: 0.6103, loss G: 1.3991\n",
            "Epoch [25/50] Batch 0/1875                       Loss D: 0.7517, loss G: 1.2723\n",
            "Epoch [26/50] Batch 0/1875                       Loss D: 0.6641, loss G: 1.2380\n",
            "Epoch [27/50] Batch 0/1875                       Loss D: 0.6520, loss G: 1.2236\n",
            "Epoch [28/50] Batch 0/1875                       Loss D: 0.5157, loss G: 1.5223\n",
            "Epoch [29/50] Batch 0/1875                       Loss D: 0.6355, loss G: 1.1892\n",
            "Epoch [30/50] Batch 0/1875                       Loss D: 0.8049, loss G: 0.8806\n",
            "Epoch [31/50] Batch 0/1875                       Loss D: 0.5435, loss G: 1.3567\n",
            "Epoch [32/50] Batch 0/1875                       Loss D: 0.5355, loss G: 1.5809\n",
            "Epoch [33/50] Batch 0/1875                       Loss D: 0.5391, loss G: 1.4177\n",
            "Epoch [34/50] Batch 0/1875                       Loss D: 0.4547, loss G: 1.4245\n",
            "Epoch [35/50] Batch 0/1875                       Loss D: 0.5859, loss G: 1.4617\n",
            "Epoch [36/50] Batch 0/1875                       Loss D: 0.5596, loss G: 1.0782\n",
            "Epoch [37/50] Batch 0/1875                       Loss D: 0.5100, loss G: 1.2119\n",
            "Epoch [38/50] Batch 0/1875                       Loss D: 0.6243, loss G: 1.2938\n",
            "Epoch [39/50] Batch 0/1875                       Loss D: 0.4578, loss G: 1.5734\n",
            "Epoch [40/50] Batch 0/1875                       Loss D: 0.3868, loss G: 1.4455\n",
            "Epoch [41/50] Batch 0/1875                       Loss D: 0.5935, loss G: 1.2152\n",
            "Epoch [42/50] Batch 0/1875                       Loss D: 0.5291, loss G: 1.0442\n",
            "Epoch [43/50] Batch 0/1875                       Loss D: 0.5509, loss G: 1.3366\n",
            "Epoch [44/50] Batch 0/1875                       Loss D: 0.6758, loss G: 0.9946\n",
            "Epoch [45/50] Batch 0/1875                       Loss D: 0.5449, loss G: 0.9441\n",
            "Epoch [46/50] Batch 0/1875                       Loss D: 0.6178, loss G: 1.2843\n",
            "Epoch [47/50] Batch 0/1875                       Loss D: 0.6716, loss G: 0.9506\n",
            "Epoch [48/50] Batch 0/1875                       Loss D: 0.6803, loss G: 1.2665\n",
            "Epoch [49/50] Batch 0/1875                       Loss D: 0.5662, loss G: 1.0412\n"
          ]
        }
      ]
    },
    {
      "cell_type": "code",
      "source": [],
      "metadata": {
        "id": "PH2-6yJYqr8Q"
      },
      "execution_count": null,
      "outputs": []
    },
    {
      "cell_type": "code",
      "source": [],
      "metadata": {
        "id": "-4WNiD4wqr_4"
      },
      "execution_count": null,
      "outputs": []
    },
    {
      "cell_type": "code",
      "source": [],
      "metadata": {
        "id": "ORR7idlIumDI"
      },
      "execution_count": null,
      "outputs": []
    }
  ]
}